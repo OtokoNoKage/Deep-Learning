{
 "cells": [
  {
   "cell_type": "markdown",
   "metadata": {},
   "source": [
    "# **Importation du Dataset**"
   ]
  },
  {
   "cell_type": "code",
   "execution_count": 1,
   "metadata": {},
   "outputs": [
    {
     "name": "stderr",
     "output_type": "stream",
     "text": [
      "2024-06-17 10:29:39.613578: I tensorflow/tsl/cuda/cudart_stub.cc:28] Could not find cuda drivers on your machine, GPU will not be used.\n",
      "2024-06-17 10:29:39.667202: E tensorflow/compiler/xla/stream_executor/cuda/cuda_dnn.cc:9342] Unable to register cuDNN factory: Attempting to register factory for plugin cuDNN when one has already been registered\n",
      "2024-06-17 10:29:39.667251: E tensorflow/compiler/xla/stream_executor/cuda/cuda_fft.cc:609] Unable to register cuFFT factory: Attempting to register factory for plugin cuFFT when one has already been registered\n",
      "2024-06-17 10:29:39.667280: E tensorflow/compiler/xla/stream_executor/cuda/cuda_blas.cc:1518] Unable to register cuBLAS factory: Attempting to register factory for plugin cuBLAS when one has already been registered\n",
      "2024-06-17 10:29:39.676448: I tensorflow/tsl/cuda/cudart_stub.cc:28] Could not find cuda drivers on your machine, GPU will not be used.\n",
      "2024-06-17 10:29:39.677242: I tensorflow/core/platform/cpu_feature_guard.cc:182] This TensorFlow binary is optimized to use available CPU instructions in performance-critical operations.\n",
      "To enable the following instructions: AVX2 FMA, in other operations, rebuild TensorFlow with the appropriate compiler flags.\n",
      "2024-06-17 10:29:40.995061: W tensorflow/compiler/tf2tensorrt/utils/py_utils.cc:38] TF-TRT Warning: Could not find TensorRT\n"
     ]
    },
    {
     "name": "stdout",
     "output_type": "stream",
     "text": [
      "Nombre d'éléments dans l'entraînement: 60000\n",
      "Nombre d'éléments dans le test: 10000\n"
     ]
    }
   ],
   "source": [
    "import numpy as np\n",
    "from keras.datasets.mnist import load_data\n",
    "\n",
    "(X_train, Y_train), (X_test, Y_test) = load_data()\n",
    "print(f'Nombre d\\'éléments dans l\\'entraînement: {len(X_train)}')\n",
    "print(f'Nombre d\\'éléments dans le test: {len(X_test)}')\n",
    "mean = X_train.max() / 2\n",
    "X_train = (np.float32(X_train) - mean) / mean"
   ]
  },
  {
   "cell_type": "markdown",
   "metadata": {},
   "source": [
    "# **Implémentation de notre Dataset**"
   ]
  },
  {
   "cell_type": "code",
   "execution_count": 2,
   "metadata": {},
   "outputs": [],
   "source": [
    "from PIL import Image\n",
    "from typing import List, Callable\n",
    "\n",
    "class Compose(object):\n",
    "    \"\"\"Classe pour encapsuler des transformations d'images.\"\"\"\n",
    "    def __init__(self, transforms: List[Callable]):\n",
    "        \"\"\"\n",
    "        Initialise la classe Compose avec une liste de transformations.\n",
    "        \"\"\"\n",
    "        self.transforms = transforms\n",
    "\n",
    "    def __call__(self, image: Image.Image) -> Image.Image:\n",
    "        \"\"\"\n",
    "        Applique séquentiellement les transformations à une image.\n",
    "        \"\"\"\n",
    "        for t in self.transforms:\n",
    "            image = t(image)\n",
    "        return image"
   ]
  },
  {
   "cell_type": "code",
   "execution_count": 3,
   "metadata": {},
   "outputs": [],
   "source": [
    "import torch\n",
    "import random as rd\n",
    "from typing import Tuple, Optional, Dict\n",
    "\n",
    "class Dataset(torch.utils.data.Dataset):\n",
    "    \"\"\"Classe Dataset pour un modèle de type GAN.\"\"\"\n",
    "    def __init__(self,  dataset: List[Dict], transform: Optional[Callable]):\n",
    "        \"\"\"\n",
    "        Initialise la classe Dataset.\n",
    "        \"\"\"\n",
    "        self.dataset = dataset\n",
    "        self.transform = transform\n",
    "\n",
    "    def __len__(self) -> int:\n",
    "        return len(self.dataset)\n",
    "\n",
    "    def __getitem__(self, index) -> torch.Tensor:\n",
    "        \"\"\"\n",
    "        Obtient un exemplaire de la base de données à partir de son indice et de sa représentation/labellisation tensorielle par le modèle.\n",
    "        \"\"\"\n",
    "        image = Image.fromarray(self.dataset[index])\n",
    "\n",
    "        if self.transform:\n",
    "            image = self.transform(image)\n",
    "        \n",
    "        return image.flatten()"
   ]
  },
  {
   "cell_type": "markdown",
   "metadata": {},
   "source": [
    "# **Générateur**"
   ]
  },
  {
   "cell_type": "code",
   "execution_count": 4,
   "metadata": {},
   "outputs": [],
   "source": [
    "# (caractéristiques, neurones)\n",
    "\"\"\"generator_architecture = [(100, 128),\n",
    "                          'ReLU',\n",
    "                          (128, 256),\n",
    "                          'ReLU',\n",
    "                          (256,512),\n",
    "                          'ReLU',\n",
    "                          (512, 1024),\n",
    "                          'ReLU',\n",
    "                          (1024, 28*28),\n",
    "                          'Tanh']\"\"\"\n",
    "\n",
    "generator_architecture = [(100, 1200),\n",
    "                          'ReLU',\n",
    "                          (1200, 1200),\n",
    "                          'ReLU',\n",
    "                          (1200, 28*28),\n",
    "                          'Tanh']"
   ]
  },
  {
   "cell_type": "code",
   "execution_count": 5,
   "metadata": {},
   "outputs": [],
   "source": [
    "import torch.nn as nn\n",
    "\n",
    "class Generator(nn.Module):\n",
    "    \"\"\"\n",
    "    Générateur d'images.\n",
    "    \"\"\"\n",
    "    def __init__(self):\n",
    "        super(Generator, self).__init__()\n",
    "        self.network = self._create_network(generator_architecture)\n",
    "\n",
    "    def forward(self, noise):\n",
    "        return self.network(noise)\n",
    "    \n",
    "    def _create_network(self, architecture):\n",
    "        layers = []\n",
    "        for element in architecture:\n",
    "            if type(element) == tuple:\n",
    "                layers.append(nn.Linear(element[0], element[1]))\n",
    "\n",
    "            elif type(element) == str:\n",
    "                try:\n",
    "                    activation_function = getattr(nn, element)\n",
    "                    layers.append(activation_function())\n",
    "                except AttributeError:\n",
    "                    print(f'Fonction d\\'activation non présente dans la classe {nn}: ', element)\n",
    "        return nn.Sequential(*layers)\n"
   ]
  },
  {
   "cell_type": "markdown",
   "metadata": {},
   "source": [
    "# **Discriminateur**"
   ]
  },
  {
   "cell_type": "code",
   "execution_count": 6,
   "metadata": {},
   "outputs": [],
   "source": [
    "\"\"\"# (caractéristiques, neurones)\n",
    "discriminator_architecture = [(28*28, 128),\n",
    "                          'LeakyReLU',\n",
    "                          (128, 256),\n",
    "                          'LeakyReLU',\n",
    "                          (256,512),\n",
    "                          'LeakyReLU',\n",
    "                          (512, 512),\n",
    "                          'LeakyReLU',\n",
    "                          (512, 256),\n",
    "                          'LeakyReLU',\n",
    "                          (256, 128),\n",
    "                          'LeakyReLU',\n",
    "                          (128, 1),\n",
    "                          'Sigmoid']\"\"\"\n",
    "\n",
    "# (caractéristiques, neurones)\n",
    "discriminator_architecture = [(28*28, 240),\n",
    "                          'LeakyReLU',\n",
    "                          (240, 240),\n",
    "                          'LeakyReLU',\n",
    "                          (240, 1),  \n",
    "                          'Sigmoid']"
   ]
  },
  {
   "cell_type": "code",
   "execution_count": 7,
   "metadata": {},
   "outputs": [],
   "source": [
    "class Discriminator(nn.Module):\n",
    "    \"\"\"\n",
    "    Discriminateur d'images.\n",
    "    \"\"\"\n",
    "    def __init__(self):\n",
    "        super(Discriminator, self).__init__()\n",
    "        self.network = self._create_network(discriminator_architecture)\n",
    "\n",
    "    def forward(self, x):\n",
    "        return self.network(x)\n",
    "    \n",
    "    def _create_network(self, architecture):\n",
    "        layers = []\n",
    "        for element in architecture:\n",
    "            if type(element) == tuple:\n",
    "                layers.append(nn.Linear(element[0], element[1]))\n",
    "\n",
    "            elif type(element) == str:\n",
    "                try:\n",
    "                    activation_function = getattr(nn, element)\n",
    "                    layers.append(activation_function())\n",
    "                except AttributeError:\n",
    "                    print(f'Fonction d\\'activation non présente dans la classe {nn}: ', element)\n",
    "        return nn.Sequential(*layers)"
   ]
  },
  {
   "cell_type": "markdown",
   "metadata": {},
   "source": [
    "# **Train**"
   ]
  },
  {
   "cell_type": "code",
   "execution_count": 8,
   "metadata": {},
   "outputs": [],
   "source": [
    "def noise(batch_size: int, dim):\n",
    "    out = torch.empty(batch_size, dim)\n",
    "    mean = torch.zeros(batch_size, dim)\n",
    "    std = torch.ones(dim)\n",
    "    out = torch.normal(mean, std, out=out)\n",
    "    return out"
   ]
  },
  {
   "cell_type": "code",
   "execution_count": 18,
   "metadata": {},
   "outputs": [],
   "source": [
    "import torch.optim as optim\n",
    "import matplotlib.pyplot as plt\n",
    "from tqdm import tqdm\n",
    "from torch.utils.data import DataLoader\n",
    "\n",
    "def train_fn(loader: DataLoader, generator: nn.Module, discriminator: nn.Module, goptimizer: optim, doptimizer:optim, device: str):\n",
    "    \"\"\"\n",
    "    Entraîne le modèle.\n",
    "\n",
    "    Parameters:\n",
    "\n",
    "    Returns:\n",
    "    \"\"\"\n",
    "    generator.train()\n",
    "    discriminator.train()\n",
    "\n",
    "    loop = tqdm(loader, leave=True)\n",
    "\n",
    "    dmean_loss = []\n",
    "    for x in loop:\n",
    "        x = x.to(device)\n",
    "        z = noise(loader.batch_size, dim=100)\n",
    "        z = z.to(device)\n",
    "        f_loss = torch.nn.BCELoss()(discriminator(generator(z)).reshape(loader.batch_size), torch.zeros(loader.batch_size, device=device))\n",
    "        r_loss = torch.nn.BCELoss()(discriminator(x).reshape(loader.batch_size), torch.ones(loader.batch_size, device=device))\n",
    "        loss = (r_loss + f_loss) / 2\n",
    "        doptimizer.zero_grad()\n",
    "        loss.backward()\n",
    "        doptimizer.step()\n",
    "        dmean_loss.append(loss.item())\n",
    "\n",
    "        loop.set_postfix(dloss=loss.item())\n",
    "\n",
    "    dmean_loss = sum(dmean_loss) / len(dmean_loss)\n",
    "\n",
    "    z = noise(loader.batch_size, dim=100).to(device)\n",
    "    g = generator(z)\n",
    "    loss = torch.nn.BCELoss()(discriminator(g).reshape(loader.batch_size), torch.ones(loader.batch_size, device=device))\n",
    "    goptimizer.zero_grad()\n",
    "    loss.backward()\n",
    "    goptimizer.step()\n",
    "\n",
    "    print(g.shape)\n",
    "    plt.axis('off')\n",
    "    plt.imshow(g[0].data.cpu().numpy().reshape(28, 28), cmap='gray')\n",
    "    plt.show()\n",
    "\n",
    "    return dmean_loss, loss.item()"
   ]
  },
  {
   "cell_type": "markdown",
   "metadata": {},
   "source": [
    "# **Main**"
   ]
  },
  {
   "cell_type": "code",
   "execution_count": 19,
   "metadata": {},
   "outputs": [
    {
     "name": "stdout",
     "output_type": "stream",
     "text": [
      "1/50:\n"
     ]
    },
    {
     "name": "stderr",
     "output_type": "stream",
     "text": [
      "100%|██████████| 600/600 [00:22<00:00, 26.49it/s, dloss=2.82e-5] \n"
     ]
    },
    {
     "name": "stdout",
     "output_type": "stream",
     "text": [
      "torch.Size([100, 784])\n"
     ]
    },
    {
     "data": {
      "image/png": "[encoded data removed]",
      "text/plain": [
       "<Figure size 640x480 with 1 Axes>"
      ]
     },
     "metadata": {},
     "output_type": "display_data"
    },
    {
     "name": "stdout",
     "output_type": "stream",
     "text": [
      "DLoss = 0.004451846005219219 | GLoss = 9.818951606750488\n",
      "2/50:\n"
     ]
    },
    {
     "name": "stderr",
     "output_type": "stream",
     "text": [
      " 51%|█████     | 304/600 [02:30<02:28,  1.99it/s, dloss=1.03e-25]"
     ]
    }
   ],
   "source": [
    "import os\n",
    "import torchvision.transforms as transforms\n",
    "from torch.optim.lr_scheduler import MultiStepLR\n",
    "\n",
    "# Hyperparamètres Entraînement\n",
    "EPOCHS = 50\n",
    "LEARNING_RATE = 0.5\n",
    "MILESTONES = [10]\n",
    "WEIGHT_DECAY = 5e-4\n",
    "BATCH_SIZE = 100\n",
    "SIZE = 28\n",
    "\n",
    "# Hyperparamètres Dataset/Dataloader\n",
    "NUM_WORKERS = os.cpu_count()\n",
    "PIN_MEMORY = True\n",
    "SHUFFLE = True\n",
    "DROP_LAST = True\n",
    "\n",
    "if __name__ == \"__main__\":\n",
    "    device = torch.device('cuda' if torch.cuda.is_available() else 'cpu')\n",
    "\n",
    "    discriminator = Discriminator().to(device)\n",
    "    generator = Generator().to(device)\n",
    "\n",
    "    # Optimiseur\n",
    "    doptimizer = optim.SGD(discriminator.parameters(), lr=LEARNING_RATE, momentum=0.5)\n",
    "    goptimizer = optim.SGD(generator.parameters(), lr=LEARNING_RATE, momentum=0.5)\n",
    "\n",
    "\n",
    "    # Pas variant en fonction des epochs\n",
    "    dscheduler = MultiStepLR(doptimizer, milestones=MILESTONES, gamma=0.1)\n",
    "    gscheduler = MultiStepLR(goptimizer, milestones=MILESTONES, gamma=0.1)\n",
    "\n",
    "    # Transformateur: transforme les images et les vecteurs label_matrix en tenseur\n",
    "    transform = Compose([transforms.Resize((SIZE, SIZE)), transforms.ToTensor(),])\n",
    "    \n",
    "    train_dataset = Dataset(X_train, transform)\n",
    "    loader = DataLoader(\n",
    "    dataset=train_dataset,\n",
    "    batch_size=BATCH_SIZE,\n",
    "    num_workers=NUM_WORKERS,\n",
    "    pin_memory=PIN_MEMORY,\n",
    "    shuffle=SHUFFLE,\n",
    "    drop_last=DROP_LAST)\n",
    "\n",
    "    dmean_loss = []\n",
    "    gmean_loss = []\n",
    "    # Apprentissage\n",
    "    \n",
    "    for epoch in range(1, EPOCHS+1):\n",
    "        print(f'{epoch}/{EPOCHS}:')\n",
    "        dloss, gloss = train_fn(loader, generator, discriminator, goptimizer, doptimizer, device)\n",
    "        print(f'DLoss = {dloss} | GLoss = {gloss}')\n",
    "        \n",
    "        dmean_loss.append(dloss)\n",
    "        gmean_loss.append(gloss)\n",
    "\n",
    "        dscheduler.step()\n",
    "        gscheduler.step()\n",
    "\n",
    "    plt.plot(dmean_loss)\n",
    "    plt.plot(gmean_loss)\n",
    "    plt.show()\n",
    "\n",
    "    NB_IMAGES = 25\n",
    "    z = noise(NB_IMAGES, dim=100).to(device)\n",
    "    x = generator(z)\n",
    "    plt.figure(figsize=(17, 17))\n",
    "    for i in range(NB_IMAGES):\n",
    "        plt.subplot(5, 5, 1 + i)\n",
    "        plt.axis('off')\n",
    "        plt.imshow(x[i].data.cpu().numpy().reshape(28, 28), cmap='gray')\n",
    "    plt.show()"
   ]
  }
 ],
 "metadata": {
  "kernelspec": {
   "display_name": "Python 3",
   "language": "python",
   "name": "python3"
  },
  "language_info": {
   "codemirror_mode": {
    "name": "ipython",
    "version": 3
   },
   "file_extension": ".py",
   "mimetype": "text/x-python",
   "name": "python",
   "nbconvert_exporter": "python",
   "pygments_lexer": "ipython3",
   "version": "3.10.12"
  }
 },
 "nbformat": 4,
 "nbformat_minor": 2
}
